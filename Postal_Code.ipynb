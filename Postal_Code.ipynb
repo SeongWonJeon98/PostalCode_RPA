{
 "cells": [
  {
   "cell_type": "code",
   "execution_count": 44,
   "metadata": {},
   "outputs": [
    {
     "name": "stdout",
     "output_type": "stream",
     "text": [
      "21400\n"
     ]
    }
   ],
   "source": [
    "from selenium import webdriver\n",
    "from selenium.webdriver.chrome.service import Service\n",
    "from selenium.webdriver.chrome.options import Options\n",
    "from selenium.webdriver.common.keys import Keys\n",
    "from selenium.webdriver.common.by import By\n",
    "from webdriver_manager.chrome import ChromeDriverManager\n",
    "import time\n",
    "\n",
    "options = Options() \n",
    "options.add_experimental_option(\"detach\", True) \n",
    "service = Service(ChromeDriverManager().install()) \n",
    "driver = webdriver.Chrome(service=service, options=options)\n",
    "\n",
    "driver.get('https://www.epost.go.kr/search.RetrieveNewAddressNewZipCdList.comm') # 사이트 연결하기\n",
    "time.sleep(1)           # 3초 대기하기\n",
    "\n",
    "search = driver.find_element(By.ID, \"keyword\")\n",
    "time.sleep(2)\n",
    "search.click()\n",
    "search.send_keys(\"인천광역시 동수천로 39\")  # 검색어 입력\n",
    "search.send_keys(Keys.ENTER)  # 엔터 입력\n",
    "Postal_code = driver.find_element(By.XPATH, \"//*[@id='contents_layout']/div[2]/div/div/table/tbody/tr[1]/th\")\n",
    "print(Postal_code.text)\n",
    "\n"
   ]
  },
  {
   "cell_type": "code",
   "execution_count": 24,
   "metadata": {},
   "outputs": [
    {
     "name": "stdout",
     "output_type": "stream",
     "text": [
      "울산 남구 화합로 185\n"
     ]
    }
   ],
   "source": [
    "import pandas as pd\n",
    "\n",
    "df = pd.read_excel('address.xlsx')\n",
    "addrs = df['주  소']\n",
    "addr = []\n",
    "for i in addrs:\n",
    "    addr.append(i)"
   ]
  },
  {
   "cell_type": "code",
   "execution_count": 1,
   "metadata": {},
   "outputs": [
    {
     "name": "stderr",
     "output_type": "stream",
     "text": [
      "[WDM] - Downloading: 100%|██████████| 6.30M/6.30M [00:00<00:00, 12.7MB/s]\n"
     ]
    }
   ],
   "source": [
    "from selenium import webdriver\n",
    "from selenium.webdriver.chrome.service import Service\n",
    "from selenium.webdriver.chrome.options import Options\n",
    "from selenium.webdriver.common.keys import Keys\n",
    "from selenium.webdriver.common.by import By\n",
    "from webdriver_manager.chrome import ChromeDriverManager\n",
    "import time\n",
    "import pandas as pd\n",
    "\n",
    "\n",
    "options = Options() \n",
    "options.add_experimental_option(\"detach\", True) \n",
    "service = Service(ChromeDriverManager().install()) \n",
    "driver = webdriver.Chrome(service=service, options=options)\n",
    "\n",
    "df = pd.read_excel('address.xlsx')\n",
    "addrs = df['주  소']\n",
    "Postal_code = []\n",
    "for addr in addrs:\n",
    "    driver.get('https://www.epost.go.kr/search.RetrieveNewAddressNewZipCdList.comm') # 사이트 연결하기 \n",
    "    search = driver.find_element(By.ID, \"keyword\")\n",
    "    search.click()\n",
    "    search.send_keys(addr)  # 검색어 입력\n",
    "    search.send_keys(Keys.ENTER)  # 엔터 입력\n",
    "    pc = driver.find_element(By.XPATH, \"//*[@id='contents_layout']/div[2]/div/div/table/tbody/tr[1]/th\").text\n",
    "    Postal_code.append(pc)\n",
    "    \n",
    "for i in range(len(Postal_code)):\n",
    "    df.iloc[i,3] = Postal_code[i]\n",
    "\n",
    "df.to_excel('address_수정본.xlsx', index=False)\n"
   ]
  }
 ],
 "metadata": {
  "kernelspec": {
   "display_name": "Python 3",
   "language": "python",
   "name": "python3"
  },
  "language_info": {
   "codemirror_mode": {
    "name": "ipython",
    "version": 3
   },
   "file_extension": ".py",
   "mimetype": "text/x-python",
   "name": "python",
   "nbconvert_exporter": "python",
   "pygments_lexer": "ipython3",
   "version": "3.11.3"
  },
  "orig_nbformat": 4
 },
 "nbformat": 4,
 "nbformat_minor": 2
}
